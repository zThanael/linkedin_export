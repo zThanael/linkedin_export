{
 "cells": [
  {
   "cell_type": "code",
   "execution_count": 1,
   "id": "c76bb439-1fe5-4b49-8642-93c240a729b9",
   "metadata": {},
   "outputs": [
    {
     "data": {
      "text/plain": [
       "True"
      ]
     },
     "execution_count": 1,
     "metadata": {},
     "output_type": "execute_result"
    }
   ],
   "source": [
    "# Import Libs\n",
    "from dotenv import load_dotenv\n",
    "from sqlalchemy import create_engine\n",
    "\n",
    "import pandas as pd\n",
    "import os \n",
    "\n",
    "# Load .env\n",
    "load_dotenv()"
   ]
  },
  {
   "cell_type": "code",
   "execution_count": 2,
   "id": "44e478bf-fa5e-4c60-9933-cc8c842c1b11",
   "metadata": {},
   "outputs": [],
   "source": [
    "def get_engagement_data():\n",
    "    # Load data\n",
    "    df_engagement = pd.read_excel('Content_2024-03-06_2025-03-05_ThanaelButewicz.xlsx',sheet_name='Engajamento')\n",
    "\n",
    "    # Rename columns\n",
    "    df_engagement.rename(columns = {\n",
    "        'Data':'referencia',\n",
    "        'Impressões':'impressoes',\n",
    "        'Engajamento':'engajamento'\n",
    "    }, inplace = True)\n",
    "\n",
    "    return df_engagement"
   ]
  },
  {
   "cell_type": "code",
   "execution_count": 3,
   "id": "28b80bc7-f6c0-49c6-afb5-9c5064888384",
   "metadata": {},
   "outputs": [],
   "source": [
    "def get_follower_data():\n",
    "    # Load data\n",
    "    df_followers = pd.read_excel('linkedin_export_data.xlsx',sheet_name='Seguidores')\n",
    "\n",
    "    # Ajust rowsz\n",
    "    df_followers = df_followers.iloc[2:].copy()\n",
    "\n",
    "    # Rename columns\n",
    "    df_followers.columns = ['referencia','seguidores']\n",
    "\n",
    "    # Transform \"seguidores\" to INTEGER format\n",
    "    df_followers['seguidores'] = df_followers['seguidores'].astype(int)\n",
    "\n",
    "    return df_followers"
   ]
  },
  {
   "cell_type": "code",
   "execution_count": 4,
   "id": "eef11cdd-e900-4452-8005-4298fcce753d",
   "metadata": {},
   "outputs": [],
   "source": [
    "def insert_into_database(df):\n",
    "    # Open the connection with Database\n",
    "    connection = create_engine(os.environ[\"string_connection\"])\n",
    "\n",
    "    # Get most recent date in Database\n",
    "    database_most_recent_date = pd.read_sql('select max(referencia) from linkedin_metricas_diarias', connection)['max'].iloc[0]\n",
    "\n",
    "    # Filter to get only new data \n",
    "    df = df[df['referencia'] > database_most_recent_date]\n",
    "\n",
    "    # Insert into Database\n",
    "    df.to_sql('linkedin_metricas_diarias', connection, if_exists = 'append', index = False)\n",
    "\n",
    "    print(f'\\n\\nInserido {df.shape[0]} dados em linkedin_metricas_diarias\\n\\n')\n",
    "    \n",
    "    # Close connection\n",
    "    connection.dispose()"
   ]
  },
  {
   "cell_type": "code",
   "execution_count": 5,
   "id": "f939f797-8470-485e-ba3c-9e6dbcc699b7",
   "metadata": {},
   "outputs": [],
   "source": [
    "def main():\n",
    "    # Engagement data\n",
    "    df_engagement = get_engagement_data()\n",
    "\n",
    "    # Followers data\n",
    "    df_followers = get_follower_data()\n",
    "\n",
    "    # Merge dataframes\n",
    "    df = pd.merge(\n",
    "        left = df_engagement,\n",
    "        right = df_followers,\n",
    "        on = 'referencia'\n",
    "    )\n",
    "\n",
    "    # Transform referencia to DATETIME\n",
    "    df['referencia'] = pd.to_datetime(df['referencia'],format='%d/%m/%Y')\n",
    "\n",
    "    # New column \n",
    "    df.insert(1,'usuario','thanael')\n",
    "    \n",
    "    # Insert data into Database\n",
    "    insert_into_database(df)\n"
   ]
  },
  {
   "cell_type": "code",
   "execution_count": 6,
   "id": "8167a9ec-50ba-4d91-bc45-7c1402b717c2",
   "metadata": {},
   "outputs": [
    {
     "name": "stderr",
     "output_type": "stream",
     "text": [
      "C:\\Users\\thanael.butewicz\\AppData\\Local\\Programs\\Python\\Python311\\Lib\\site-packages\\openpyxl\\styles\\stylesheet.py:226: UserWarning: Workbook contains no default style, apply openpyxl's default\n",
      "  warn(\"Workbook contains no default style, apply openpyxl's default\")\n",
      "C:\\Users\\thanael.butewicz\\AppData\\Local\\Programs\\Python\\Python311\\Lib\\site-packages\\openpyxl\\styles\\stylesheet.py:226: UserWarning: Workbook contains no default style, apply openpyxl's default\n",
      "  warn(\"Workbook contains no default style, apply openpyxl's default\")\n"
     ]
    },
    {
     "name": "stdout",
     "output_type": "stream",
     "text": [
      "\n",
      "\n",
      "Inserido 0 dados em linkedin_metricas_diarias\n",
      "\n",
      "\n"
     ]
    }
   ],
   "source": [
    "main()"
   ]
  },
  {
   "cell_type": "code",
   "execution_count": null,
   "id": "827b5755-514c-4916-99c1-8500ef465179",
   "metadata": {},
   "outputs": [],
   "source": []
  }
 ],
 "metadata": {
  "kernelspec": {
   "display_name": "Python 3 (ipykernel)",
   "language": "python",
   "name": "python3"
  },
  "language_info": {
   "codemirror_mode": {
    "name": "ipython",
    "version": 3
   },
   "file_extension": ".py",
   "mimetype": "text/x-python",
   "name": "python",
   "nbconvert_exporter": "python",
   "pygments_lexer": "ipython3",
   "version": "3.11.1"
  }
 },
 "nbformat": 4,
 "nbformat_minor": 5
}
