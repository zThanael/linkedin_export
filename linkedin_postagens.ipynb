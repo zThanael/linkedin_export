{
 "cells": [
  {
   "cell_type": "code",
   "execution_count": 1,
   "id": "25e0526d-5d25-48d5-843c-e81da0171d89",
   "metadata": {},
   "outputs": [
    {
     "data": {
      "text/plain": [
       "True"
      ]
     },
     "execution_count": 1,
     "metadata": {},
     "output_type": "execute_result"
    }
   ],
   "source": [
    "# Import Libs\n",
    "from dotenv import load_dotenv\n",
    "from sqlalchemy import create_engine\n",
    "\n",
    "import pandas as pd\n",
    "import os \n",
    "\n",
    "# Load .env\n",
    "load_dotenv()"
   ]
  },
  {
   "cell_type": "code",
   "execution_count": 2,
   "id": "e68c6331-006f-4254-a73a-c9a1f532eff6",
   "metadata": {},
   "outputs": [],
   "source": [
    "def get_data():\n",
    "    # Creating the DataFrame raw\n",
    "    df = pd.read_csv('authoredup_posts.csv', sep = ';')\n",
    "\n",
    "    return df"
   ]
  },
  {
   "cell_type": "code",
   "execution_count": 3,
   "id": "ad4d8614-b912-4a58-9748-ab17e2dc522a",
   "metadata": {},
   "outputs": [],
   "source": [
    "def manipulate_dataframe(df):\n",
    "    # Create title column\n",
    "    df['title'] = df['text'].apply(lambda title: title[: title.replace('\\r','').find('\\n')].strip() if title else None)\n",
    "\n",
    "    # Filter the columns\n",
    "    columns_used = ['urn','title','profile_mention_count','hyperlink_count','hashtag_count',\n",
    "                'reaction_count','comment_count','share_count','impression_count','text_words', # talvez\n",
    "                'post_published_at','post_url']\n",
    "\n",
    "    df = df[columns_used]\n",
    "\n",
    "    # Rename columns\n",
    "    df.rename(columns = {\n",
    "        'urn':'id',\n",
    "        'title':'titulo',\n",
    "        'profile_mention_count':'qtd_mencao_usuario',\n",
    "        'hyperlink_count':'qtd_links',\n",
    "        'hashtag_count':'qtd_hashtag',\n",
    "        'comment_count':'qtd_comentarios',\n",
    "        'share_count':'qtd_compartilhamento',\n",
    "        'reaction_count':'qtd_reacoes',\n",
    "        'impression_count':'qtd_impressoes',\n",
    "        'text_words':'qtd_palavras',\n",
    "        'post_published_at':'data_publicacao',\n",
    "        'post_url':'url'\n",
    "    }, inplace = True)\n",
    "    \n",
    "    return df"
   ]
  },
  {
   "cell_type": "code",
   "execution_count": 4,
   "id": "72ac5119-e44b-4f49-9fc7-00b39199a09a",
   "metadata": {},
   "outputs": [],
   "source": [
    "def insert_into_database(df):\n",
    "    # Open the connection with Database\n",
    "    connection = create_engine(os.environ[\"string_connection\"])\n",
    "\n",
    "    # Insert into Database\n",
    "    df.to_sql('linkedin_postagens', connection, if_exists = 'append', index = False)\n",
    "\n",
    "    print(f'\\n\\nInserido {df.shape[0]} dados em linkedin_postagens\\n\\n')\n",
    "    \n",
    "    # Close connection\n",
    "    connection.dispose()"
   ]
  },
  {
   "cell_type": "code",
   "execution_count": 5,
   "id": "d8aa43b2-efec-4476-9873-1a22d1d1347a",
   "metadata": {},
   "outputs": [],
   "source": [
    "def main():\n",
    "    # Extract the Data\n",
    "    df_raw = get_data()\n",
    "\n",
    "    # Manipulate the Dataframe\n",
    "    df = manipulate_dataframe(df_raw)\n",
    "\n",
    "    # Insert into Database\n",
    "    insert_into_database(df)"
   ]
  },
  {
   "cell_type": "code",
   "execution_count": 6,
   "id": "42734e3e-c99c-41a0-84e5-8f4107df3933",
   "metadata": {},
   "outputs": [
    {
     "name": "stderr",
     "output_type": "stream",
     "text": [
      "C:\\Users\\thanael.butewicz\\AppData\\Local\\Temp\\ipykernel_17248\\3185102586.py:13: SettingWithCopyWarning: \n",
      "A value is trying to be set on a copy of a slice from a DataFrame\n",
      "\n",
      "See the caveats in the documentation: https://pandas.pydata.org/pandas-docs/stable/user_guide/indexing.html#returning-a-view-versus-a-copy\n",
      "  df.rename(columns = {\n"
     ]
    },
    {
     "name": "stdout",
     "output_type": "stream",
     "text": [
      "\n",
      "\n",
      "Inserido 254 dados em linkedin_postagens\n",
      "\n",
      "\n"
     ]
    }
   ],
   "source": [
    "main()"
   ]
  },
  {
   "cell_type": "code",
   "execution_count": null,
   "id": "d3f47756-b6d2-49a1-93fc-8be32f4a9c39",
   "metadata": {},
   "outputs": [],
   "source": []
  }
 ],
 "metadata": {
  "kernelspec": {
   "display_name": "Python 3 (ipykernel)",
   "language": "python",
   "name": "python3"
  },
  "language_info": {
   "codemirror_mode": {
    "name": "ipython",
    "version": 3
   },
   "file_extension": ".py",
   "mimetype": "text/x-python",
   "name": "python",
   "nbconvert_exporter": "python",
   "pygments_lexer": "ipython3",
   "version": "3.11.1"
  }
 },
 "nbformat": 4,
 "nbformat_minor": 5
}
