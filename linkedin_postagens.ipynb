{
 "cells": [
  {
   "cell_type": "code",
   "execution_count": 1,
   "id": "25e0526d-5d25-48d5-843c-e81da0171d89",
   "metadata": {},
   "outputs": [],
   "source": [
    "import pandas as pd"
   ]
  },
  {
   "cell_type": "code",
   "execution_count": 4,
   "id": "7893187f-e148-420e-bc49-680360826ef7",
   "metadata": {},
   "outputs": [],
   "source": [
    "df = pd.read_csv('authoredup_posts.csv', sep = ';')"
   ]
  },
  {
   "cell_type": "code",
   "execution_count": 69,
   "id": "02d90c65-7a49-4bc6-adf6-e4d8e4d6a661",
   "metadata": {},
   "outputs": [],
   "source": [
    "columns_used = ['urn','text','profile_mention_count','hyperlink_count','hashtag_count',\n",
    "                'reaction_count','comment_count','share_count','impression_count', # talvez\n",
    "                'post_published_at','post_url','text_words']"
   ]
  },
  {
   "cell_type": "code",
   "execution_count": 64,
   "id": "50a9a32a-497a-4a18-8b3a-1632221fe582",
   "metadata": {},
   "outputs": [
    {
     "data": {
      "text/plain": [
       "Index(['urn', 'text', 'company_mention_count', 'profile_mention_count',\n",
       "       'hyperlink_count', 'hyperlink_internal_count',\n",
       "       'hyperlink_external_count', 'hashtag_count', 'detected_language',\n",
       "       'content_type', 'share_audience', 'time_zone_name',\n",
       "       'time_zone_offset_in_minutes', 'reaction_count', 'comment_count',\n",
       "       'direct_comment_count', 'share_count', 'view_count', 'did_self_like',\n",
       "       'did_company_like', 'company_reaction', 'synchronized_reaction_count',\n",
       "       'synchronized_comment_count', 'synchronized_share_count',\n",
       "       'synchronized_stats_at', 'reshared_share_urn', 'post_scheduled_date',\n",
       "       'post_created_at', 'post_updated_at', 'post_published_at',\n",
       "       'post_deleted_at', 'impression_count', 'tags', 'post_url', 'image_urls',\n",
       "       'document_url', 'posted_by_profile', 'posted_by_company',\n",
       "       'posted_in_group', 'reaction_count_like', 'reaction_count_interest',\n",
       "       'reaction_count_praise', 'reaction_count_empathy',\n",
       "       'reaction_count_entertainment', 'reaction_count_appreciation',\n",
       "       'reaction_count_maybe', 'text_characters', 'text_words',\n",
       "       'text_paragraphs', 'text_sentences', 'text_reading_time_ms',\n",
       "       'text_readability_index', 'titulo'],\n",
       "      dtype='object')"
      ]
     },
     "execution_count": 64,
     "metadata": {},
     "output_type": "execute_result"
    }
   ],
   "source": [
    "df.columns"
   ]
  },
  {
   "cell_type": "code",
   "execution_count": 41,
   "id": "7812e3a1-33a3-443c-be78-5d362dc34d3f",
   "metadata": {},
   "outputs": [],
   "source": [
    "df_teste = df[columns_used]"
   ]
  },
  {
   "cell_type": "code",
   "execution_count": null,
   "id": "bd2c2c90-078d-4317-88e4-ed8f66094bbc",
   "metadata": {},
   "outputs": [],
   "source": [
    "urn:li:activity:7303383916789293056"
   ]
  },
  {
   "cell_type": "code",
   "execution_count": 45,
   "id": "2b6cec53-5211-4436-aa16-d6736159137c",
   "metadata": {},
   "outputs": [
    {
     "data": {
      "text/plain": [
       "'https://www.linkedin.com/feed/update/urn:li:share:7301998572009349121'"
      ]
     },
     "execution_count": 45,
     "metadata": {},
     "output_type": "execute_result"
    }
   ],
   "source": [
    "df['post_url'].iloc[0]"
   ]
  },
  {
   "cell_type": "code",
   "execution_count": 56,
   "id": "cc989809-c41c-4755-9adb-d9ce91707629",
   "metadata": {},
   "outputs": [],
   "source": [
    "df['titulo'] = df['text'].apply(lambda titulo: titulo[: titulo.replace('\\r','').find('\\n')].strip() if titulo else None)"
   ]
  },
  {
   "cell_type": "code",
   "execution_count": 67,
   "id": "28131fa2-168f-43ab-afe2-07af55db6bc2",
   "metadata": {},
   "outputs": [
    {
     "data": {
      "text/plain": [
       "134"
      ]
     },
     "execution_count": 67,
     "metadata": {},
     "output_type": "execute_result"
    }
   ],
   "source": [
    "len(df['text'].iloc[0].split(' '))"
   ]
  },
  {
   "cell_type": "code",
   "execution_count": 68,
   "id": "9c25babb-1523-41bc-9821-87c194d14b33",
   "metadata": {},
   "outputs": [
    {
     "data": {
      "text/plain": [
       "148"
      ]
     },
     "execution_count": 68,
     "metadata": {},
     "output_type": "execute_result"
    }
   ],
   "source": [
    "df['text_words'].iloc[0]"
   ]
  },
  {
   "cell_type": "code",
   "execution_count": 59,
   "id": "89714014-0a72-4e6e-8f4d-bb5fdbe51b3a",
   "metadata": {},
   "outputs": [
    {
     "data": {
      "text/plain": [
       "'Seu ambiente propicia a criação de Ilhas de Conhecimento?'"
      ]
     },
     "execution_count": 59,
     "metadata": {},
     "output_type": "execute_result"
    }
   ],
   "source": [
    "df['titulo'].iloc[0] "
   ]
  },
  {
   "cell_type": "code",
   "execution_count": 42,
   "id": "1a58a8f9-105f-4d78-bd2e-86f742dbd823",
   "metadata": {},
   "outputs": [
    {
     "data": {
      "text/html": [
       "<div>\n",
       "<style scoped>\n",
       "    .dataframe tbody tr th:only-of-type {\n",
       "        vertical-align: middle;\n",
       "    }\n",
       "\n",
       "    .dataframe tbody tr th {\n",
       "        vertical-align: top;\n",
       "    }\n",
       "\n",
       "    .dataframe thead th {\n",
       "        text-align: right;\n",
       "    }\n",
       "</style>\n",
       "<table border=\"1\" class=\"dataframe\">\n",
       "  <thead>\n",
       "    <tr style=\"text-align: right;\">\n",
       "      <th></th>\n",
       "      <th>urn</th>\n",
       "      <th>text</th>\n",
       "      <th>profile_mention_count</th>\n",
       "      <th>hyperlink_count</th>\n",
       "      <th>hashtag_count</th>\n",
       "      <th>reaction_count</th>\n",
       "      <th>comment_count</th>\n",
       "      <th>share_count</th>\n",
       "      <th>impression_count</th>\n",
       "      <th>post_published_at</th>\n",
       "      <th>post_url</th>\n",
       "    </tr>\n",
       "  </thead>\n",
       "  <tbody>\n",
       "    <tr>\n",
       "      <th>0</th>\n",
       "      <td>urn:li:share:7301998572009349121</td>\n",
       "      <td>Seu ambiente propicia a criação de Ilhas de Co...</td>\n",
       "      <td>0</td>\n",
       "      <td>0</td>\n",
       "      <td>0</td>\n",
       "      <td>71</td>\n",
       "      <td>12</td>\n",
       "      <td>1</td>\n",
       "      <td>3239</td>\n",
       "      <td>2025-03-06T12:00:16.074Z</td>\n",
       "      <td>https://www.linkedin.com/feed/update/urn:li:sh...</td>\n",
       "    </tr>\n",
       "    <tr>\n",
       "      <th>1</th>\n",
       "      <td>urn:li:share:7300122626083987456</td>\n",
       "      <td>Acaba uma leitura e outra se inicia, desta vez...</td>\n",
       "      <td>2</td>\n",
       "      <td>1</td>\n",
       "      <td>0</td>\n",
       "      <td>76</td>\n",
       "      <td>8</td>\n",
       "      <td>1</td>\n",
       "      <td>4519</td>\n",
       "      <td>2025-03-05T12:00:10.769Z</td>\n",
       "      <td>https://www.linkedin.com/feed/update/urn:li:sh...</td>\n",
       "    </tr>\n",
       "    <tr>\n",
       "      <th>2</th>\n",
       "      <td>urn:li:share:7301661557254418433</td>\n",
       "      <td>Lendas Urbanas em SQL - NATURAL JOIN\\r\\n\\r\\nDe...</td>\n",
       "      <td>0</td>\n",
       "      <td>0</td>\n",
       "      <td>0</td>\n",
       "      <td>89</td>\n",
       "      <td>13</td>\n",
       "      <td>1</td>\n",
       "      <td>11044</td>\n",
       "      <td>2025-03-04T12:00:10.925Z</td>\n",
       "      <td>https://www.linkedin.com/feed/update/urn:li:sh...</td>\n",
       "    </tr>\n",
       "    <tr>\n",
       "      <th>3</th>\n",
       "      <td>urn:li:share:7300687054009491457</td>\n",
       "      <td>Lendas Urbanas em SQL? \\r\\n\\r\\nEsta é a nova s...</td>\n",
       "      <td>0</td>\n",
       "      <td>1</td>\n",
       "      <td>0</td>\n",
       "      <td>62</td>\n",
       "      <td>12</td>\n",
       "      <td>1</td>\n",
       "      <td>3857</td>\n",
       "      <td>2025-03-03T12:00:01.263Z</td>\n",
       "      <td>https://www.linkedin.com/feed/update/urn:li:sh...</td>\n",
       "    </tr>\n",
       "    <tr>\n",
       "      <th>4</th>\n",
       "      <td>urn:li:share:7301037494223953920</td>\n",
       "      <td>Qual a linguagem que mais te incentiva a errar...</td>\n",
       "      <td>0</td>\n",
       "      <td>0</td>\n",
       "      <td>0</td>\n",
       "      <td>166</td>\n",
       "      <td>23</td>\n",
       "      <td>0</td>\n",
       "      <td>11518</td>\n",
       "      <td>2025-02-28T12:00:03.430Z</td>\n",
       "      <td>https://www.linkedin.com/feed/update/urn:li:sh...</td>\n",
       "    </tr>\n",
       "    <tr>\n",
       "      <th>...</th>\n",
       "      <td>...</td>\n",
       "      <td>...</td>\n",
       "      <td>...</td>\n",
       "      <td>...</td>\n",
       "      <td>...</td>\n",
       "      <td>...</td>\n",
       "      <td>...</td>\n",
       "      <td>...</td>\n",
       "      <td>...</td>\n",
       "      <td>...</td>\n",
       "      <td>...</td>\n",
       "    </tr>\n",
       "    <tr>\n",
       "      <th>249</th>\n",
       "      <td>urn:li:ugcPost:6817135972522713089</td>\n",
       "      <td>Ontem foi dia de gerar novos conhecimentos, as...</td>\n",
       "      <td>0</td>\n",
       "      <td>0</td>\n",
       "      <td>2</td>\n",
       "      <td>4</td>\n",
       "      <td>0</td>\n",
       "      <td>0</td>\n",
       "      <td>0</td>\n",
       "      <td>2021-07-03T17:04:32.224Z</td>\n",
       "      <td>https://www.linkedin.com/feed/update/urn:li:ug...</td>\n",
       "    </tr>\n",
       "    <tr>\n",
       "      <th>250</th>\n",
       "      <td>urn:li:share:6813185399490404352</td>\n",
       "      <td>Nada como acordar com uma ótima noticia já par...</td>\n",
       "      <td>0</td>\n",
       "      <td>0</td>\n",
       "      <td>4</td>\n",
       "      <td>6</td>\n",
       "      <td>0</td>\n",
       "      <td>0</td>\n",
       "      <td>0</td>\n",
       "      <td>2021-06-22T19:26:22.227Z</td>\n",
       "      <td>https://www.linkedin.com/feed/update/urn:li:sh...</td>\n",
       "    </tr>\n",
       "    <tr>\n",
       "      <th>251</th>\n",
       "      <td>urn:li:ugcPost:6753136061041397760</td>\n",
       "      <td>Uau! o que dizer deste evento do qual estou ex...</td>\n",
       "      <td>1</td>\n",
       "      <td>0</td>\n",
       "      <td>2</td>\n",
       "      <td>7</td>\n",
       "      <td>0</td>\n",
       "      <td>0</td>\n",
       "      <td>0</td>\n",
       "      <td>2021-01-08T02:31:44.330Z</td>\n",
       "      <td>https://www.linkedin.com/feed/update/urn:li:ug...</td>\n",
       "    </tr>\n",
       "    <tr>\n",
       "      <th>252</th>\n",
       "      <td>urn:li:ugcPost:6726923506287697920</td>\n",
       "      <td>Excelente conteúdo do Vinicius Pessoni Me CTFL...</td>\n",
       "      <td>1</td>\n",
       "      <td>0</td>\n",
       "      <td>0</td>\n",
       "      <td>6</td>\n",
       "      <td>1</td>\n",
       "      <td>0</td>\n",
       "      <td>0</td>\n",
       "      <td>2020-10-27T18:32:24.232Z</td>\n",
       "      <td>https://www.linkedin.com/feed/update/urn:li:ug...</td>\n",
       "    </tr>\n",
       "    <tr>\n",
       "      <th>253</th>\n",
       "      <td>urn:li:ugcPost:6721866279432536064</td>\n",
       "      <td>Excelente evento! e de grande aprendizado, pri...</td>\n",
       "      <td>0</td>\n",
       "      <td>0</td>\n",
       "      <td>0</td>\n",
       "      <td>0</td>\n",
       "      <td>0</td>\n",
       "      <td>0</td>\n",
       "      <td>0</td>\n",
       "      <td>2020-10-13T19:36:47.400Z</td>\n",
       "      <td>https://www.linkedin.com/feed/update/urn:li:ug...</td>\n",
       "    </tr>\n",
       "  </tbody>\n",
       "</table>\n",
       "<p>254 rows × 11 columns</p>\n",
       "</div>"
      ],
      "text/plain": [
       "                                    urn  \\\n",
       "0      urn:li:share:7301998572009349121   \n",
       "1      urn:li:share:7300122626083987456   \n",
       "2      urn:li:share:7301661557254418433   \n",
       "3      urn:li:share:7300687054009491457   \n",
       "4      urn:li:share:7301037494223953920   \n",
       "..                                  ...   \n",
       "249  urn:li:ugcPost:6817135972522713089   \n",
       "250    urn:li:share:6813185399490404352   \n",
       "251  urn:li:ugcPost:6753136061041397760   \n",
       "252  urn:li:ugcPost:6726923506287697920   \n",
       "253  urn:li:ugcPost:6721866279432536064   \n",
       "\n",
       "                                                  text  profile_mention_count  \\\n",
       "0    Seu ambiente propicia a criação de Ilhas de Co...                      0   \n",
       "1    Acaba uma leitura e outra se inicia, desta vez...                      2   \n",
       "2    Lendas Urbanas em SQL - NATURAL JOIN\\r\\n\\r\\nDe...                      0   \n",
       "3    Lendas Urbanas em SQL? \\r\\n\\r\\nEsta é a nova s...                      0   \n",
       "4    Qual a linguagem que mais te incentiva a errar...                      0   \n",
       "..                                                 ...                    ...   \n",
       "249  Ontem foi dia de gerar novos conhecimentos, as...                      0   \n",
       "250  Nada como acordar com uma ótima noticia já par...                      0   \n",
       "251  Uau! o que dizer deste evento do qual estou ex...                      1   \n",
       "252  Excelente conteúdo do Vinicius Pessoni Me CTFL...                      1   \n",
       "253  Excelente evento! e de grande aprendizado, pri...                      0   \n",
       "\n",
       "     hyperlink_count  hashtag_count  reaction_count  comment_count  \\\n",
       "0                  0              0              71             12   \n",
       "1                  1              0              76              8   \n",
       "2                  0              0              89             13   \n",
       "3                  1              0              62             12   \n",
       "4                  0              0             166             23   \n",
       "..               ...            ...             ...            ...   \n",
       "249                0              2               4              0   \n",
       "250                0              4               6              0   \n",
       "251                0              2               7              0   \n",
       "252                0              0               6              1   \n",
       "253                0              0               0              0   \n",
       "\n",
       "     share_count  impression_count         post_published_at  \\\n",
       "0              1              3239  2025-03-06T12:00:16.074Z   \n",
       "1              1              4519  2025-03-05T12:00:10.769Z   \n",
       "2              1             11044  2025-03-04T12:00:10.925Z   \n",
       "3              1              3857  2025-03-03T12:00:01.263Z   \n",
       "4              0             11518  2025-02-28T12:00:03.430Z   \n",
       "..           ...               ...                       ...   \n",
       "249            0                 0  2021-07-03T17:04:32.224Z   \n",
       "250            0                 0  2021-06-22T19:26:22.227Z   \n",
       "251            0                 0  2021-01-08T02:31:44.330Z   \n",
       "252            0                 0  2020-10-27T18:32:24.232Z   \n",
       "253            0                 0  2020-10-13T19:36:47.400Z   \n",
       "\n",
       "                                              post_url  \n",
       "0    https://www.linkedin.com/feed/update/urn:li:sh...  \n",
       "1    https://www.linkedin.com/feed/update/urn:li:sh...  \n",
       "2    https://www.linkedin.com/feed/update/urn:li:sh...  \n",
       "3    https://www.linkedin.com/feed/update/urn:li:sh...  \n",
       "4    https://www.linkedin.com/feed/update/urn:li:sh...  \n",
       "..                                                 ...  \n",
       "249  https://www.linkedin.com/feed/update/urn:li:ug...  \n",
       "250  https://www.linkedin.com/feed/update/urn:li:sh...  \n",
       "251  https://www.linkedin.com/feed/update/urn:li:ug...  \n",
       "252  https://www.linkedin.com/feed/update/urn:li:ug...  \n",
       "253  https://www.linkedin.com/feed/update/urn:li:ug...  \n",
       "\n",
       "[254 rows x 11 columns]"
      ]
     },
     "execution_count": 42,
     "metadata": {},
     "output_type": "execute_result"
    }
   ],
   "source": [
    "df_teste['titulo']"
   ]
  },
  {
   "cell_type": "code",
   "execution_count": 6,
   "id": "16ec8c95-f187-4388-a5c0-3109ea4239ac",
   "metadata": {},
   "outputs": [
    {
     "data": {
      "text/plain": [
       "Index(['urn', 'text', 'company_mention_count', 'profile_mention_count',\n",
       "       'hyperlink_count', 'hyperlink_internal_count',\n",
       "       'hyperlink_external_count', 'hashtag_count', 'detected_language',\n",
       "       'content_type', 'share_audience', 'time_zone_name',\n",
       "       'time_zone_offset_in_minutes', 'reaction_count', 'comment_count',\n",
       "       'direct_comment_count', 'share_count', 'view_count', 'did_self_like',\n",
       "       'did_company_like', 'company_reaction', 'synchronized_reaction_count',\n",
       "       'synchronized_comment_count', 'synchronized_share_count',\n",
       "       'synchronized_stats_at', 'reshared_share_urn', 'post_scheduled_date',\n",
       "       'post_created_at', 'post_updated_at', 'post_published_at',\n",
       "       'post_deleted_at', 'impression_count', 'tags', 'post_url', 'image_urls',\n",
       "       'document_url', 'posted_by_profile', 'posted_by_company',\n",
       "       'posted_in_group', 'reaction_count_like', 'reaction_count_interest',\n",
       "       'reaction_count_praise', 'reaction_count_empathy',\n",
       "       'reaction_count_entertainment', 'reaction_count_appreciation',\n",
       "       'reaction_count_maybe', 'text_characters', 'text_words',\n",
       "       'text_paragraphs', 'text_sentences', 'text_reading_time_ms',\n",
       "       'text_readability_index'],\n",
       "      dtype='object')"
      ]
     },
     "execution_count": 6,
     "metadata": {},
     "output_type": "execute_result"
    }
   ],
   "source": [
    "df.columns"
   ]
  },
  {
   "cell_type": "code",
   "execution_count": 33,
   "id": "4ba59992-29a0-43df-90e0-18cb2de8e14b",
   "metadata": {},
   "outputs": [
    {
     "data": {
      "text/plain": [
       "8"
      ]
     },
     "execution_count": 33,
     "metadata": {},
     "output_type": "execute_result"
    }
   ],
   "source": [
    "df['text_paragraphs'].iloc[0]"
   ]
  },
  {
   "cell_type": "code",
   "execution_count": 19,
   "id": "d16ecb42-ca6c-49c6-8a5b-3cd5afae9a97",
   "metadata": {},
   "outputs": [
    {
     "data": {
      "text/plain": [
       "content_type\n",
       "Image       207\n",
       "Text         20\n",
       "Article      16\n",
       "Document      6\n",
       "Reshare       5\n",
       "Name: count, dtype: int64"
      ]
     },
     "execution_count": 19,
     "metadata": {},
     "output_type": "execute_result"
    }
   ],
   "source": [
    "df['content_type'].value_counts()"
   ]
  },
  {
   "cell_type": "code",
   "execution_count": null,
   "id": "892b652c-6a77-4281-95e2-54e42d3e7290",
   "metadata": {},
   "outputs": [],
   "source": []
  }
 ],
 "metadata": {
  "kernelspec": {
   "display_name": "Python 3 (ipykernel)",
   "language": "python",
   "name": "python3"
  },
  "language_info": {
   "codemirror_mode": {
    "name": "ipython",
    "version": 3
   },
   "file_extension": ".py",
   "mimetype": "text/x-python",
   "name": "python",
   "nbconvert_exporter": "python",
   "pygments_lexer": "ipython3",
   "version": "3.11.1"
  }
 },
 "nbformat": 4,
 "nbformat_minor": 5
}
